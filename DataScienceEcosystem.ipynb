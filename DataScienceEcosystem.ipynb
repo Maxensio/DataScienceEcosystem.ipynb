{
 "cells": [
  {
   "cell_type": "markdown",
   "id": "927db6dc-201e-444e-beff-2c2a49367bc7",
   "metadata": {},
   "source": [
    "# Data Science Tools and Ecosystem\n"
   ]
  },
  {
   "cell_type": "markdown",
   "id": "e877c7bf-cda6-4021-83e3-7b1c2bb244f9",
   "metadata": {},
   "source": [
    "In this notebook, Data Science Tools and Ecosystem are summarised."
   ]
  },
  {
   "cell_type": "markdown",
   "id": "c6273648-8598-4ae4-a224-b30d36350074",
   "metadata": {},
   "source": [
    "**Objectives:**\n",
    "\n",
    "1. Data science languages\n",
    "2. Data science libraries\n",
    "3. Data science tools\n",
    "4. Python arithmetic operators"
   ]
  },
  {
   "cell_type": "code",
   "execution_count": null,
   "id": "831d4490-61c7-4201-9187-23888bef29e6",
   "metadata": {},
   "outputs": [],
   "source": []
  },
  {
   "cell_type": "markdown",
   "id": "7ca051b7-1c25-49d6-b564-e4e6dcdb63f0",
   "metadata": {},
   "source": [
    "Some of the popular languages that Data Scientists are summarized."
   ]
  },
  {
   "cell_type": "markdown",
   "id": "d26b63cd-e13a-455d-b305-43cbcfc80aea",
   "metadata": {},
   "source": [
    "- Python\n",
    "- R\n",
    "- SQL\n",
    "- Julia\n",
    "- Scala\n",
    "- Java\n",
    "- Ruby\n"
   ]
  },
  {
   "cell_type": "markdown",
   "id": "37877083-4d8c-4423-ae4b-b47e02985a08",
   "metadata": {},
   "source": [
    "Some of the commonly used libraries used by Data Scientists include:"
   ]
  },
  {
   "cell_type": "markdown",
   "id": "807f3e29-842e-4568-9f9b-0dba2c563afa",
   "metadata": {},
   "source": [
    "- pandas\n",
    "- matplot lib\n",
    "- tensa flow\n",
    "- numpy"
   ]
  },
  {
   "cell_type": "markdown",
   "id": "cbca3001-9d10-4f3a-bb6b-49b9d1c8c438",
   "metadata": {},
   "source": [
    "|  Data Science Tools|\n",
    "|--------------------|\n",
    "|   Jupyter Notebooks |\n",
    "|   Visual studio |\n",
    "|   R Studio |\n"
   ]
  },
  {
   "cell_type": "markdown",
   "id": "9178265a-1c43-4b5f-a9e4-44783e70968f",
   "metadata": {},
   "source": [
    "### Below are a few examples od evaluation arithmetic expressions in Python"
   ]
  },
  {
   "cell_type": "code",
   "execution_count": 2,
   "id": "56d26cab-64fb-4ce9-87af-dde123793171",
   "metadata": {},
   "outputs": [],
   "source": [
    "# This is a simple arithmetic expression to multipy then add integers"
   ]
  },
  {
   "cell_type": "code",
   "execution_count": 3,
   "id": "965befb4-4fb9-481a-ab74-50919d67bd0d",
   "metadata": {},
   "outputs": [
    {
     "data": {
      "text/plain": [
       "17"
      ]
     },
     "execution_count": 3,
     "metadata": {},
     "output_type": "execute_result"
    }
   ],
   "source": [
    "(3*4)+5"
   ]
  },
  {
   "cell_type": "code",
   "execution_count": 4,
   "id": "a98deb07-f8e8-4816-b171-70766586dcf3",
   "metadata": {},
   "outputs": [],
   "source": [
    "# This will convert 200 minutes to hours by dividing by 60"
   ]
  },
  {
   "cell_type": "code",
   "execution_count": 6,
   "id": "30dbbda9-e07f-4d75-9655-af806fe343c4",
   "metadata": {},
   "outputs": [
    {
     "data": {
      "text/plain": [
       "3.3333333333333335"
      ]
     },
     "execution_count": 6,
     "metadata": {},
     "output_type": "execute_result"
    }
   ],
   "source": [
    "200/60"
   ]
  },
  {
   "cell_type": "markdown",
   "id": "b9b7cf29-dde6-4100-add7-00425e15da23",
   "metadata": {},
   "source": [
    "## Author\n",
    "\n",
    "Maxensio Phiri"
   ]
  },
  {
   "cell_type": "code",
   "execution_count": null,
   "id": "51c2d02a-f9e6-4ed6-ad65-62f2029c6990",
   "metadata": {},
   "outputs": [],
   "source": []
  }
 ],
 "metadata": {
  "kernelspec": {
   "display_name": "Python 3 (ipykernel)",
   "language": "python",
   "name": "python3"
  },
  "language_info": {
   "codemirror_mode": {
    "name": "ipython",
    "version": 3
   },
   "file_extension": ".py",
   "mimetype": "text/x-python",
   "name": "python",
   "nbconvert_exporter": "python",
   "pygments_lexer": "ipython3",
   "version": "3.9.13"
  }
 },
 "nbformat": 4,
 "nbformat_minor": 5
}
